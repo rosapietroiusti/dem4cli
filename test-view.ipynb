{
 "cells": [
  {
   "cell_type": "markdown",
   "id": "20c903b6-631a-409d-8674-dd6ac11f17fe",
   "metadata": {},
   "source": [
    "Hello testing"
   ]
  },
  {
   "cell_type": "code",
   "execution_count": null,
   "id": "38193c32-02e1-4930-b652-213418d14e0b",
   "metadata": {},
   "outputs": [],
   "source": []
  }
 ],
 "metadata": {
  "kernelspec": {
   "display_name": "Python 3",
   "language": "python",
   "name": "python3"
  },
  "language_info": {
   "codemirror_mode": {
    "name": "ipython",
    "version": 3
   },
   "file_extension": ".py",
   "mimetype": "text/x-python",
   "name": "python",
   "nbconvert_exporter": "python",
   "pygments_lexer": "ipython3",
   "version": "3.11.3"
  }
 },
 "nbformat": 4,
 "nbformat_minor": 5
}
